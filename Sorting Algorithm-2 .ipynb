{
 "cells": [
  {
   "cell_type": "code",
   "execution_count": 3,
   "id": "7b27cdef",
   "metadata": {},
   "outputs": [
    {
     "name": "stdout",
     "output_type": "stream",
     "text": [
      "Enter the number of elements:5\n",
      "Enter the elements:\n",
      "5\n",
      "3\n",
      "9\n",
      "2\n",
      "6\n",
      "Original list: [5, 3, 9, 2, 6]\n",
      "Bubble sort: [2, 3, 5, 6, 9]\n"
     ]
    }
   ],
   "source": [
    "#Bubble Sort  time complexity:O(n)-best case,O(n^2)-worst case\n",
    "def bubble_sort(arr):\n",
    "    n=len(arr)\n",
    "    for i in range(n):\n",
    "        for j in range(0,n-i-1):\n",
    "            if arr[j]>arr[j+1]:\n",
    "                arr[j],arr[j+1]=arr[j+1],arr[j]\n",
    "    \n",
    "size=int(input(\"Enter the number of elements:\"))\n",
    "arr=[]\n",
    "print(\"Enter the elements:\")\n",
    "for _ in range(size):\n",
    "    arr.append(int(input()))\n",
    "print(\"Original list:\",arr)\n",
    "bubble_sort(arr)\n",
    "print(\"Bubble sort:\",arr)"
   ]
  },
  {
   "cell_type": "code",
   "execution_count": 6,
   "id": "83a86277",
   "metadata": {},
   "outputs": [
    {
     "name": "stdout",
     "output_type": "stream",
     "text": [
      "Enter the number of elements:5\n",
      "Enter the elements:\n",
      "4\n",
      "1\n",
      "0\n",
      "0\n",
      "3\n",
      "Original list: [4, 1, 0, 0, 3]\n",
      "Count Sorted: [0, 0, 1, 3, 4]\n"
     ]
    }
   ],
   "source": [
    "#counting sort  O(n+k)-time complexity-k is the largest element of the array\n",
    "def csort(arr):\n",
    "    if not arr:\n",
    "        return []\n",
    "    max_val=max(arr)\n",
    "    count=[0]*(max_val+1)\n",
    "    #freq\n",
    "    for num in arr:\n",
    "        count[num]+=1\n",
    "    #count\n",
    "    for i in range(1,len(count)):\n",
    "        count[i]+=count[i-1]\n",
    "    output=[0]*len(arr)\n",
    "    #stable sort\n",
    "    for num in reversed(arr):\n",
    "        output[count[num]-1]=num\n",
    "        count[num]-=1\n",
    "    #coping sorted list\n",
    "    for i in range(len(arr)):\n",
    "        arr[i]=output[i]\n",
    "size=int(input(\"Enter the number of elements:\"))\n",
    "arr=[]\n",
    "print(\"Enter the elements:\")\n",
    "for _ in range(size):\n",
    "    arr.append(int(input()))\n",
    "print(\"Original list:\",arr)\n",
    "csort(arr)\n",
    "print(\"Count Sorted:\",arr)"
   ]
  },
  {
   "cell_type": "code",
   "execution_count": null,
   "id": "2d07ee26",
   "metadata": {},
   "outputs": [],
   "source": []
  },
  {
   "cell_type": "code",
   "execution_count": null,
   "id": "c18386f6",
   "metadata": {},
   "outputs": [],
   "source": []
  }
 ],
 "metadata": {
  "kernelspec": {
   "display_name": "Python 3 (ipykernel)",
   "language": "python",
   "name": "python3"
  },
  "language_info": {
   "codemirror_mode": {
    "name": "ipython",
    "version": 3
   },
   "file_extension": ".py",
   "mimetype": "text/x-python",
   "name": "python",
   "nbconvert_exporter": "python",
   "pygments_lexer": "ipython3",
   "version": "3.11.3"
  }
 },
 "nbformat": 4,
 "nbformat_minor": 5
}
