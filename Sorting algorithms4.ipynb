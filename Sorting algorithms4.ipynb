{
 "cells": [
  {
   "cell_type": "code",
   "execution_count": 7,
   "id": "ed025c97-5038-4826-81af-452bf82016aa",
   "metadata": {},
   "outputs": [
    {
     "name": "stdin",
     "output_type": "stream",
     "text": [
      "enter numbers seperated with space 9 3  66 5 2 8 3\n"
     ]
    },
    {
     "name": "stdout",
     "output_type": "stream",
     "text": [
      "Flip at 3 is:[66, 3, 9, 5, 2, 8, 3]\n",
      "total Flip at 7 is:[3, 8, 2, 5, 9, 3, 66]\n",
      "Flip at 5 is:[9, 5, 2, 8, 3, 3, 66]\n",
      "total Flip at 6 is:[3, 3, 8, 2, 5, 9, 66]\n",
      "Flip at 3 is:[8, 3, 3, 2, 5, 9, 66]\n",
      "total Flip at 5 is:[5, 2, 3, 3, 8, 9, 66]\n",
      "total Flip at 4 is:[3, 3, 2, 5, 8, 9, 66]\n",
      "total Flip at 3 is:[2, 3, 3, 5, 8, 9, 66]\n",
      "sorted [2, 3, 3, 5, 8, 9, 66]\n"
     ]
    }
   ],
   "source": [
    "#pancake sort\n",
    "def flip(arr,k):\n",
    "    return arr[:k+1][::-1]+arr[k+1:]\n",
    "def pancake(arr):\n",
    "    n=len(arr)\n",
    "    for size in range(n,1,-1):\n",
    "        max_index=arr.index(max(arr[:size]))\n",
    "        if max_index!=size-1:\n",
    "            if max_index!=0:\n",
    "                arr=flip(arr,max_index) #max flip\n",
    "                print(f\"Flip at {max_index+1} is:{arr}\")\n",
    "            arr=flip(arr,size-1) #total flip\n",
    "            print(f\"Total Flip at {size} is:{arr}\")\n",
    "    return arr\n",
    "#arr=[88,9,0,5]\n",
    "nums=list(map(int,input(\"enter numbers seperated with space\").split()))\n",
    "sorted_nums=pancake(nums)\n",
    "print(\"sorted\",sorted_nums)"
   ]
  },
  {
   "cell_type": "code",
   "execution_count": null,
   "id": "3fa57b31-2254-4305-a2e8-8bdcb2c1adf6",
   "metadata": {},
   "outputs": [],
   "source": []
  }
 ],
 "metadata": {
  "kernelspec": {
   "display_name": "Python 3 (ipykernel)",
   "language": "python",
   "name": "python3"
  },
  "language_info": {
   "codemirror_mode": {
    "name": "ipython",
    "version": 3
   },
   "file_extension": ".py",
   "mimetype": "text/x-python",
   "name": "python",
   "nbconvert_exporter": "python",
   "pygments_lexer": "ipython3",
   "version": "3.12.7"
  }
 },
 "nbformat": 4,
 "nbformat_minor": 5
}
