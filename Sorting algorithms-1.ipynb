{
 "cells": [
  {
   "cell_type": "code",
   "execution_count": 12,
   "id": "e20d8747",
   "metadata": {
    "scrolled": true
   },
   "outputs": [
    {
     "name": "stdout",
     "output_type": "stream",
     "text": [
      "Enter the number of elements:5\n",
      "enter 5 elements:\n",
      "5\n",
      "6\n",
      "7\n",
      "8\n",
      "1\n",
      "Sorted array: [1, 5, 6, 7, 8]\n"
     ]
    }
   ],
   "source": [
    "#Selection sort in ascending order\n",
    "def selection_sort(arr):\n",
    "    n=len(arr)\n",
    "    for i in range(n):\n",
    "        min_index=i\n",
    "        for j in range(i+1,n):\n",
    "            if arr[j]<arr[min_index]:\n",
    "                min_index=j\n",
    "        arr[i],arr[min_index]=arr[min_index],arr[i]\n",
    "    return arr\n",
    "size=int(input(\"Enter the number of elements:\"))\n",
    "arr=[]\n",
    "print(\"enter\",size,\"elements:\")\n",
    "for _ in range(size):\n",
    "    num=int(input())\n",
    "    arr.append(num)\n",
    "result=selection_sort(arr)\n",
    "print(\"Sorted array:\",result)"
   ]
  },
  {
   "cell_type": "code",
   "execution_count": 3,
   "id": "1bf44029",
   "metadata": {},
   "outputs": [
    {
     "name": "stdout",
     "output_type": "stream",
     "text": [
      "Enter the number of elements:5\n",
      "enter 5 elements:\n",
      "5\n",
      "6\n",
      "7\n",
      "3\n",
      "1\n",
      "Sorted array: [7, 6, 5, 3, 1]\n"
     ]
    }
   ],
   "source": [
    "#Selection sort in descending order\n",
    "def selection_sort(arr):\n",
    "    n=len(arr)\n",
    "    for i in range(n):\n",
    "        min_index=i\n",
    "        for j in range(i+1,n):\n",
    "            if arr[j]>arr[min_index]:\n",
    "                min_index=j\n",
    "        arr[i],arr[min_index]=arr[min_index],arr[i]\n",
    "    return arr\n",
    "size=int(input(\"Enter the number of elements:\"))\n",
    "arr=[]\n",
    "print(\"enter\",size,\"elements:\")\n",
    "for _ in range(size):\n",
    "    num=int(input())\n",
    "    arr.append(num)\n",
    "result=selection_sort(arr)\n",
    "print(\"Sorted array:\",result)"
   ]
  },
  {
   "cell_type": "code",
   "execution_count": 14,
   "id": "9509a4b8",
   "metadata": {},
   "outputs": [
    {
     "name": "stdout",
     "output_type": "stream",
     "text": [
      "Enter the number of elements:5\n",
      "enter 5 elements:\n",
      "6\n",
      "5\n",
      "3\n",
      "8\n",
      "1\n",
      "Sorted array: [1, 3, 5, 6, 8]\n"
     ]
    }
   ],
   "source": [
    "#Insertion sort\n",
    "def insertion_sort(arr):\n",
    "    for i in range(1,len(arr)):\n",
    "        key=arr[i]\n",
    "        j=i-1\n",
    "        while j>=0 and arr[j]>key:\n",
    "            arr[j+1]=arr[j]\n",
    "            j-=1\n",
    "        arr[j+1]=key\n",
    "    return arr\n",
    "size=int(input(\"Enter the number of elements:\"))\n",
    "arr=[]\n",
    "print(\"enter\",size,\"elements:\")\n",
    "for _ in range(size):\n",
    "    num=int(input())\n",
    "    arr.append(num)\n",
    "result=insertion_sort(arr)\n",
    "print(\"Sorted array:\",result)"
   ]
  },
  {
   "cell_type": "code",
   "execution_count": 5,
   "id": "377ce79f",
   "metadata": {},
   "outputs": [
    {
     "name": "stdout",
     "output_type": "stream",
     "text": [
      "Enter the number of elements:4\n",
      "enter 4 elements:\n",
      "banana\n",
      "apple\n",
      "dates\n",
      "cherry\n",
      "Sorted array: ['apple', 'banana', 'cherry', 'dates']\n"
     ]
    }
   ],
   "source": [
    "#Insertion sort\n",
    "def insertion_sort(arr):\n",
    "    for i in range(1,len(arr)):\n",
    "        key=arr[i]\n",
    "        j=i-1\n",
    "        while j>=0 and arr[j]>key:\n",
    "            arr[j+1]=arr[j]\n",
    "            j-=1\n",
    "        arr[j+1]=key\n",
    "    return arr\n",
    "size=int(input(\"Enter the number of elements:\"))\n",
    "arr=[]\n",
    "print(\"enter\",size,\"elements:\")\n",
    "for _ in range(size):\n",
    "    num=input()\n",
    "    arr.append(num)\n",
    "result=insertion_sort(arr)\n",
    "print(\"Sorted array:\",result)"
   ]
  },
  {
   "cell_type": "code",
   "execution_count": 6,
   "id": "e633d9bd",
   "metadata": {},
   "outputs": [
    {
     "name": "stdout",
     "output_type": "stream",
     "text": [
      "Enter the number of elements:4\n",
      "enter 4 elements:\n",
      "beach\n",
      "sand\n",
      "sunset\n",
      "tree\n",
      "Sorted array: ['sand', 'tree', 'beach', 'sunset']\n"
     ]
    }
   ],
   "source": [
    "\"\"\"Perform insertion sort on strings based on length of the words\"\"\"\n",
    "def insertion_sort(arr):\n",
    "    for i in range(1,len(arr)):\n",
    "        key=arr[i]\n",
    "        j=i-1\n",
    "        while j>=0 and len(arr[j])>len(key):\n",
    "            arr[j+1]=arr[j]\n",
    "            j-=1\n",
    "        arr[j+1]=key\n",
    "    return arr\n",
    "size=int(input(\"Enter the number of elements:\"))\n",
    "arr=[]\n",
    "print(\"enter\",size,\"elements:\")\n",
    "for _ in range(size):\n",
    "    num=input()\n",
    "    arr.append(num)\n",
    "result=insertion_sort(arr)\n",
    "print(\"Sorted array:\",result)"
   ]
  },
  {
   "cell_type": "code",
   "execution_count": 10,
   "id": "c57f8104",
   "metadata": {},
   "outputs": [
    {
     "name": "stdout",
     "output_type": "stream",
     "text": [
      "enter a string:revathi\n",
      "['r', 'e', 'v', 'a', 't', 'h', 'i']\n",
      "['a', 'e', 'h', 'i', 'r', 't', 'v']\n",
      "Sorted characters: aehirtv\n"
     ]
    }
   ],
   "source": [
    "#input:python  output:hnopty using insertion sort\n",
    "def insertion_sort(arr):\n",
    "    for i in range(1,len(arr)):\n",
    "        key=arr[i]\n",
    "        j=i-1\n",
    "        while j>=0 and arr[j]>key:\n",
    "            arr[j+1]=arr[j]\n",
    "            j-=1\n",
    "        arr[j+1]=key\n",
    "    return arr\n",
    "text=input(\"enter a string:\")\n",
    "ch=list(text)\n",
    "print(ch)\n",
    "sort_chars=insertion_sort(ch)\n",
    "print(ch)\n",
    "print(\"Sorted characters:\",''.join(ch))"
   ]
  },
  {
   "cell_type": "code",
   "execution_count": null,
   "id": "94fb2df6",
   "metadata": {},
   "outputs": [],
   "source": []
  }
 ],
 "metadata": {
  "kernelspec": {
   "display_name": "Python 3 (ipykernel)",
   "language": "python",
   "name": "python3"
  },
  "language_info": {
   "codemirror_mode": {
    "name": "ipython",
    "version": 3
   },
   "file_extension": ".py",
   "mimetype": "text/x-python",
   "name": "python",
   "nbconvert_exporter": "python",
   "pygments_lexer": "ipython3",
   "version": "3.11.3"
  }
 },
 "nbformat": 4,
 "nbformat_minor": 5
}
