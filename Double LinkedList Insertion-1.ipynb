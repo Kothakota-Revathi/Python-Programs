{
 "cells": [
  {
   "cell_type": "code",
   "execution_count": 9,
   "id": "0f2aeda0-8fe8-4e4c-b823-7a8b777f81f8",
   "metadata": {},
   "outputs": [
    {
     "name": "stdin",
     "output_type": "stream",
     "text": [
      "Enter the number of elements to insert at end: 5\n",
      "Enter element 1: 10\n",
      "Enter element 2: 20\n",
      "Enter element 3: 30\n",
      "Enter element 4: 40\n",
      "Enter element 5: 50\n"
     ]
    },
    {
     "name": "stdout",
     "output_type": "stream",
     "text": [
      "Double Linked List:\n",
      "10<-->20<-->30<-->40<-->50<-->None\n"
     ]
    }
   ],
   "source": [
    "### Double Linkedlist insertion at the end\n",
    "class Node:\n",
    "    def __init__(self,data):\n",
    "        self.data=data\n",
    "        self.prev=None\n",
    "        self.next=None\n",
    "class DoubleLinkedList:\n",
    "    def __init__(self):\n",
    "        self.head=None\n",
    "    def iae(self,data):\n",
    "        newnode=Node(data)\n",
    "        if self.head is None:\n",
    "            self.head=newnode\n",
    "            return\n",
    "        temp=self.head\n",
    "        while temp.next:\n",
    "            temp=temp.next\n",
    "        temp.next=newnode\n",
    "        newnode.prev=temp\n",
    "    def display(self):\n",
    "        temp=self.head\n",
    "        print(\"Double Linked List:\")\n",
    "        while temp:\n",
    "            print(temp.data,end=\"<-->\")\n",
    "            temp=temp.next\n",
    "        print(\"None\")\n",
    "dll=DoubleLinkedList()\n",
    "n=int(input(\"Enter the number of elements to insert at end:\"))\n",
    "for i in range(n):\n",
    "    value=int(input(f\"Enter element {i+1}:\"))\n",
    "    dll.iae(value)\n",
    "dll.display()"
   ]
  },
  {
   "cell_type": "code",
   "execution_count": null,
   "id": "8615a2b5-764b-4fe5-ba0a-ad74e172a78a",
   "metadata": {},
   "outputs": [],
   "source": []
  }
 ],
 "metadata": {
  "kernelspec": {
   "display_name": "Python 3 (ipykernel)",
   "language": "python",
   "name": "python3"
  },
  "language_info": {
   "codemirror_mode": {
    "name": "ipython",
    "version": 3
   },
   "file_extension": ".py",
   "mimetype": "text/x-python",
   "name": "python",
   "nbconvert_exporter": "python",
   "pygments_lexer": "ipython3",
   "version": "3.12.7"
  }
 },
 "nbformat": 4,
 "nbformat_minor": 5
}
