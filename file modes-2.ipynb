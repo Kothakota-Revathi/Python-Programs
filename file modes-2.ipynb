{
 "cells": [
  {
   "cell_type": "code",
   "execution_count": 102,
   "id": "484df826-0ca6-46e0-ac16-e89a501a9af6",
   "metadata": {},
   "outputs": [
    {
     "name": "stdout",
     "output_type": "stream",
     "text": [
      "Previous: Hello World\n",
      "Latest Hello Students..!\n"
     ]
    }
   ],
   "source": [
    "#r+ mode\n",
    "with open (\"file1.txt\",\"w\") as f:\n",
    "    f.write(\"Hello World\")\n",
    "with open (\"file1.txt\",\"r+\") as f:\n",
    "    data=f.read()\n",
    "    print(\"Previous:\",data)\n",
    "    new_data=data.replace(\"World\",\"Students..!\")\n",
    "    f.seek(0)\n",
    "    f.write(new_data)\n",
    "    f.truncate() #if 5 is given after 5 values others are removed truncated(5)=Kotha(o/p)\n",
    "with open(\"file1.txt\",\"r\") as f:\n",
    "    print(\"Latest\",f.read())"
   ]
  },
  {
   "cell_type": "code",
   "execution_count": 13,
   "id": "d9fc08b6-a451-4862-95f3-3f9deed4293f",
   "metadata": {},
   "outputs": [
    {
     "name": "stdout",
     "output_type": "stream",
     "text": [
      "Previous: Hello Students..!!\n",
      "Latest: Hello Future IT Employees\n"
     ]
    }
   ],
   "source": [
    "#w+ mode\n",
    "with open (\"file1.txt\",\"w+\") as f:\n",
    "    f.write(\"Hello Students..!!\")\n",
    "    f.seek(0)\n",
    "    data=f.read()\n",
    "    print(\"Previous:\",data)\n",
    "    new_data=data.replace(\"Students..!!\",\"Future IT Employees\")\n",
    "    f.seek(0)\n",
    "    f.write(new_data)\n",
    "    f.truncate()\n",
    "with open(\"file1.txt\",\"r\") as f:\n",
    "    print(\"Latest:\",f.read())"
   ]
  },
  {
   "cell_type": "code",
   "execution_count": 80,
   "id": "8c4bc8cd-a8a6-488f-acb7-6c1fb846a662",
   "metadata": {},
   "outputs": [
    {
     "name": "stdout",
     "output_type": "stream",
     "text": [
      "current data:\n",
      " \n",
      " one\n",
      " two\n",
      " three\n",
      " four\n",
      " five\n"
     ]
    }
   ],
   "source": [
    "#a+ mode\n",
    "with open(\"log.txt\",'a+') as f:\n",
    "    f.write(\"\\n five\")\n",
    "    f.seek(0)\n",
    "    data=f.read()\n",
    "    print(\"current data:\\n\",data)"
   ]
  },
  {
   "cell_type": "code",
   "execution_count": 82,
   "id": "fbd60fac-f423-41b4-9c62-944ab619adc8",
   "metadata": {},
   "outputs": [],
   "source": [
    "#delete data comparitive deletion\n",
    "with open(\"log.txt\",'r') as f:\n",
    "    lines=f.readlines()\n",
    "with open(\"log.txt\",'w') as f:\n",
    "    for line in lines:\n",
    "        if line.strip()!='four':\n",
    "            f.write(line)"
   ]
  },
  {
   "cell_type": "code",
   "execution_count": 92,
   "id": "cc5d9ec6-dc61-49a0-8974-cdf5eb608b47",
   "metadata": {},
   "outputs": [
    {
     "name": "stdin",
     "output_type": "stream",
     "text": [
      "Enter exact number 2\n"
     ]
    }
   ],
   "source": [
    "#serial number data deletion\n",
    "ldel=input(\"Enter exact number\")\n",
    "with open(\"log.txt\",'r') as f:\n",
    "    lines=f.readlines()\n",
    "with open(\"log.txt\",'w') as f:\n",
    "    for line in lines:\n",
    "        if line.strip()!=ldel.strip():\n",
    "            f.write(line)"
   ]
  },
  {
   "cell_type": "code",
   "execution_count": 98,
   "id": "2fd1adfd-0568-4399-b911-a47706574929",
   "metadata": {},
   "outputs": [
    {
     "name": "stdout",
     "output_type": "stream",
     "text": [
      "3\n"
     ]
    }
   ],
   "source": [
    "#file number-fileno() and flush()\n",
    "f=open (\"file1.txt\",'w')\n",
    "print(f.fileno())\n",
    "f.flush() #deletes the data in that file"
   ]
  },
  {
   "cell_type": "code",
   "execution_count": 100,
   "id": "cf0cf871-b46a-4471-8c6f-a344fff26d77",
   "metadata": {},
   "outputs": [
    {
     "name": "stdout",
     "output_type": "stream",
     "text": [
      "False\n"
     ]
    }
   ],
   "source": [
    "#isatty()\n",
    "f=open (\"log.txt\",'w')\n",
    "f.write(\"Hello\")\n",
    "print(f.isatty()) #checks whether the file has \"hello\" word in it if not found-false else true "
   ]
  },
  {
   "cell_type": "code",
   "execution_count": null,
   "id": "7148b978-9d20-405c-ad36-0341ce6e20b8",
   "metadata": {},
   "outputs": [],
   "source": []
  }
 ],
 "metadata": {
  "kernelspec": {
   "display_name": "Python 3 (ipykernel)",
   "language": "python",
   "name": "python3"
  },
  "language_info": {
   "codemirror_mode": {
    "name": "ipython",
    "version": 3
   },
   "file_extension": ".py",
   "mimetype": "text/x-python",
   "name": "python",
   "nbconvert_exporter": "python",
   "pygments_lexer": "ipython3",
   "version": "3.12.7"
  }
 },
 "nbformat": 4,
 "nbformat_minor": 5
}
