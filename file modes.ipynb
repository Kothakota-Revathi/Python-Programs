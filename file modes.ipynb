{
 "cells": [
  {
   "cell_type": "code",
   "execution_count": 2,
   "id": "3017a847-0580-4393-b255-a43754e3e76c",
   "metadata": {},
   "outputs": [
    {
     "name": "stdout",
     "output_type": "stream",
     "text": [
      "Hello students..\n",
      "Good Morning..!!\n"
     ]
    }
   ],
   "source": [
    "#file operations\n",
    "file=open(\"sample.txt\",\"r\")\n",
    "data=file.read() #to print or read the data in sample.txt\n",
    "print(data)\n",
    "file.close()"
   ]
  },
  {
   "cell_type": "code",
   "execution_count": 4,
   "id": "3256463c-3b58-4973-bf61-7fc5f0e96f8c",
   "metadata": {},
   "outputs": [
    {
     "name": "stdout",
     "output_type": "stream",
     "text": [
      "Hello students..\n",
      "\n"
     ]
    }
   ],
   "source": [
    "file=open(\"sample.txt\",\"r\")\n",
    "data=file.readline() #to print a line by line\n",
    "print(data)\n",
    "file.close()"
   ]
  },
  {
   "cell_type": "code",
   "execution_count": 32,
   "id": "8a8dbefb-ce32-4aa0-9f71-156ab9741f07",
   "metadata": {},
   "outputs": [],
   "source": [
    "#write operation when file not created manually..it will create and give the data in that file\n",
    "file=open(\"Test.txt\",\"w\")\n",
    "file.write(\"My name is Revathi..How are you?\")\n",
    "file.close()"
   ]
  },
  {
   "cell_type": "code",
   "execution_count": 34,
   "id": "0ed6a25d-9946-47b3-afec-5d38aae9305e",
   "metadata": {},
   "outputs": [],
   "source": [
    "#append\n",
    "file=open(\"Test.txt\",\"a\")\n",
    "file.write(\"Thank You..!!\")\n",
    "file.close()"
   ]
  },
  {
   "cell_type": "code",
   "execution_count": 18,
   "id": "0342855c-d07f-456c-94b8-7d0f12cde98a",
   "metadata": {},
   "outputs": [
    {
     "name": "stdout",
     "output_type": "stream",
     "text": [
      "b'Hello students..\\n'\n"
     ]
    }
   ],
   "source": [
    "#read binary\n",
    "file=open(\"sample.txt\",\"rb\")\n",
    "data=file.readline() \n",
    "print(data)\n",
    "file.close()"
   ]
  },
  {
   "cell_type": "code",
   "execution_count": 24,
   "id": "777f6b1b-ea17-4d78-9b7e-9f643cd07820",
   "metadata": {},
   "outputs": [],
   "source": [
    "#write binary\n",
    "file=open(\"sample_binary.bin\",\"wb\")\n",
    "file.write(b'\\x48\\x65\\x6c\\x6c\\x6F')\n",
    "file.close()\n",
    "'''with open(sample_data.bin\",\"wb\") as file:\n",
    "        data=b'\\x48\\x65\\x6c\\x6c\\x6F'\n",
    "        file.write(data)'''"
   ]
  },
  {
   "cell_type": "code",
   "execution_count": 30,
   "id": "7a00cc1d-d80c-4b45-b583-320bd30b27f2",
   "metadata": {},
   "outputs": [
    {
     "name": "stdout",
     "output_type": "stream",
     "text": [
      "\n"
     ]
    }
   ],
   "source": [
    "file=open(\"sample.txt\",\"r\")\n",
    "'''for line in file:\n",
    "    print(line.strip())'''\n",
    "data=file.read()\n",
    "print(data)\n",
    "file.close()"
   ]
  },
  {
   "cell_type": "code",
   "execution_count": 36,
   "id": "5bf59bad-ed09-4649-853b-e87ae783618a",
   "metadata": {},
   "outputs": [
    {
     "name": "stdin",
     "output_type": "stream",
     "text": [
      "Enter the filename: sample.txt\n",
      "Enter a char: o\n"
     ]
    },
    {
     "name": "stdout",
     "output_type": "stream",
     "text": [
      "o appears 4 times in the file\n"
     ]
    }
   ],
   "source": [
    "'''program that accepts file name as input from the user..open the file and count number of times a character appears in the file'''\n",
    "filename=input(\"Enter the filename:\")\n",
    "with open(filename) as file:\n",
    "    text=file.read()\n",
    "    letter=input(\"Enter a char:\")\n",
    "    c=0\n",
    "    for char in text:\n",
    "        if char==letter:\n",
    "            c+=1\n",
    "print(letter,\"appears\",c,\"times in the file\")"
   ]
  },
  {
   "cell_type": "code",
   "execution_count": 38,
   "id": "b5e8fee3-2222-45c9-b1a7-33ab040e6139",
   "metadata": {},
   "outputs": [
    {
     "name": "stdout",
     "output_type": "stream",
     "text": [
      "Successfully renamed..!!\n"
     ]
    }
   ],
   "source": [
    "#renaming a file\n",
    "import os \n",
    "os.rename(\"sample.txt\",\"example.txt\")\n",
    "print(\"Successfully renamed..!!\")"
   ]
  },
  {
   "cell_type": "code",
   "execution_count": 46,
   "id": "b55a445b-f2b9-4956-912d-d1febb2ca35b",
   "metadata": {},
   "outputs": [
    {
     "ename": "PermissionError",
     "evalue": "[WinError 32] The process cannot access the file because it is being used by another process: 'Test.txt'",
     "output_type": "error",
     "traceback": [
      "\u001b[31m---------------------------------------------------------------------------\u001b[39m",
      "\u001b[31mPermissionError\u001b[39m                           Traceback (most recent call last)",
      "\u001b[36mCell\u001b[39m\u001b[36m \u001b[39m\u001b[32mIn[46]\u001b[39m\u001b[32m, line 3\u001b[39m\n\u001b[32m      1\u001b[39m \u001b[38;5;66;03m#deleting a file\u001b[39;00m\n\u001b[32m      2\u001b[39m \u001b[38;5;28;01mimport\u001b[39;00m\u001b[38;5;250m \u001b[39m\u001b[34;01mos\u001b[39;00m\n\u001b[32m----> \u001b[39m\u001b[32m3\u001b[39m \u001b[43mos\u001b[49m\u001b[43m.\u001b[49m\u001b[43mremove\u001b[49m\u001b[43m(\u001b[49m\u001b[33;43m\"\u001b[39;49m\u001b[33;43mTest.txt\u001b[39;49m\u001b[33;43m\"\u001b[39;49m\u001b[43m)\u001b[49m\n\u001b[32m      4\u001b[39m \u001b[38;5;28mprint\u001b[39m(\u001b[33m\"\u001b[39m\u001b[33mFile deleted..\u001b[39m\u001b[33m\"\u001b[39m)\n",
      "\u001b[31mPermissionError\u001b[39m: [WinError 32] The process cannot access the file because it is being used by another process: 'Test.txt'"
     ]
    }
   ],
   "source": [
    "#deleting a file\n",
    "import os\n",
    "os.remove(\"Test.txt\")\n",
    "print(\"File deleted..\")"
   ]
  },
  {
   "cell_type": "code",
   "execution_count": null,
   "id": "157d9cfe-22f6-4fab-85d7-fcfd37040bc5",
   "metadata": {},
   "outputs": [],
   "source": []
  }
 ],
 "metadata": {
  "kernelspec": {
   "display_name": "Python 3 (ipykernel)",
   "language": "python",
   "name": "python3"
  },
  "language_info": {
   "codemirror_mode": {
    "name": "ipython",
    "version": 3
   },
   "file_extension": ".py",
   "mimetype": "text/x-python",
   "name": "python",
   "nbconvert_exporter": "python",
   "pygments_lexer": "ipython3",
   "version": "3.12.7"
  }
 },
 "nbformat": 4,
 "nbformat_minor": 5
}
