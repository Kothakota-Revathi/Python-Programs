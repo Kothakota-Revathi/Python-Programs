{
 "cells": [
  {
   "cell_type": "code",
   "execution_count": 1,
   "id": "ffda1de6-0bde-451d-9f24-dc7514240358",
   "metadata": {},
   "outputs": [
    {
     "name": "stdout",
     "output_type": "stream",
     "text": [
      "Python version: 3.12.7 | packaged by Anaconda, Inc. | (main, Oct  4 2024, 13:17:27) [MSC v.1929 64 bit (AMD64)]\n"
     ]
    }
   ],
   "source": [
    "import sys\n",
    "print(\"Python version:\",sys.version)"
   ]
  },
  {
   "cell_type": "code",
   "execution_count": 9,
   "id": "6161fa2e-9cea-49c5-9ff3-e1c68891b0c9",
   "metadata": {},
   "outputs": [
    {
     "name": "stdin",
     "output_type": "stream",
     "text": [
      "Enter age: 35\n"
     ]
    },
    {
     "name": "stdout",
     "output_type": "stream",
     "text": [
      "you are eligible\n"
     ]
    }
   ],
   "source": [
    "#system and built in modules\n",
    "import sys\n",
    "age=int(input(\"Enter age:\"))\n",
    "if age<18:\n",
    "    print(\"Not eligible\")\n",
    "    sys.exit()\n",
    "print(\"you are eligible\")"
   ]
  },
  {
   "cell_type": "code",
   "execution_count": 11,
   "id": "4cb7f8e8-45d4-42fd-8347-f534363c40c3",
   "metadata": {},
   "outputs": [
    {
     "name": "stdout",
     "output_type": "stream",
     "text": [
      "Platform: win32\n"
     ]
    }
   ],
   "source": [
    "import sys\n",
    "print(\"Platform:\",sys.platform)"
   ]
  },
  {
   "cell_type": "code",
   "execution_count": null,
   "id": "144be72d-1dbf-4c1d-b66d-1330c80a0774",
   "metadata": {},
   "outputs": [],
   "source": []
  }
 ],
 "metadata": {
  "kernelspec": {
   "display_name": "Python 3 (ipykernel)",
   "language": "python",
   "name": "python3"
  },
  "language_info": {
   "codemirror_mode": {
    "name": "ipython",
    "version": 3
   },
   "file_extension": ".py",
   "mimetype": "text/x-python",
   "name": "python",
   "nbconvert_exporter": "python",
   "pygments_lexer": "ipython3",
   "version": "3.12.7"
  }
 },
 "nbformat": 4,
 "nbformat_minor": 5
}
