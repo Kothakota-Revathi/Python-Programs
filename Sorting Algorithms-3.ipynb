{
 "cells": [
  {
   "cell_type": "code",
   "execution_count": 4,
   "id": "2cba1ef8",
   "metadata": {},
   "outputs": [
    {
     "name": "stdout",
     "output_type": "stream",
     "text": [
      "Enter the single word:MISSISSIPPPI\n",
      "Original string: MISSISSIPPPI\n",
      "Sorted string: IIIIMPPPSSSS\n"
     ]
    }
   ],
   "source": [
    "#counting sort on strings\n",
    "def csort_string(s):\n",
    "    count=[0]*26\n",
    "    for char in s:\n",
    "        count[ord(char)-ord('A')]+=1  #small a for the word with small letters\n",
    "    sorted_str=''\n",
    "    for i in range(26):\n",
    "        sorted_str+=chr(i+ord('A'))*count[i]\n",
    "    return sorted_str\n",
    "name=input(\"Enter the single word:\")\n",
    "sorted_name=csort_string(name)\n",
    "print(\"Original string:\",name)\n",
    "print(\"Sorted string:\",sorted_name)"
   ]
  },
  {
   "cell_type": "code",
   "execution_count": 6,
   "id": "55be2aba",
   "metadata": {},
   "outputs": [
    {
     "name": "stdout",
     "output_type": "stream",
     "text": [
      "Before Sort: [170, 45, 75, 90, 802, 24, 2, 66]\n",
      "After Sort: [2, 24, 45, 66, 75, 90, 170, 802]\n"
     ]
    }
   ],
   "source": [
    "#radix sort time complexity-O(n*k) space complexity-O(n)\n",
    "def count_sort(arr,exp):\n",
    "    n=len(arr)\n",
    "    output=[0]*n\n",
    "    count=[0]*10 #0->9 empty buckets for count of digits\n",
    "    for i in range(n): # frequencies of units position of numbers\n",
    "        index=(arr[i]//exp)%10\n",
    "        count[index]+=1\n",
    "    for i in range(1,10):\n",
    "        count[i]+=count[i-1]\n",
    "    i=n-1\n",
    "    while i>=0:\n",
    "        index=(arr[i]//exp)%10\n",
    "        output[count[index]-1]=arr[i]\n",
    "        count[index]-=1\n",
    "        i-=1\n",
    "    for i in range(n):\n",
    "        arr[i]=output[i]\n",
    "def radix_sort(arr):\n",
    "    max_num=max(arr)\n",
    "    exp=1\n",
    "    while max_num//exp>0:\n",
    "        count_sort(arr,exp)\n",
    "        exp*=10\n",
    "arr=[170,45,75,90,802,24,2,66]\n",
    "print(\"Before Sort:\",arr)\n",
    "radix_sort(arr)\n",
    "print(\"After Sort:\",arr)"
   ]
  },
  {
   "cell_type": "code",
   "execution_count": null,
   "id": "45806b50",
   "metadata": {},
   "outputs": [],
   "source": []
  }
 ],
 "metadata": {
  "kernelspec": {
   "display_name": "Python 3 (ipykernel)",
   "language": "python",
   "name": "python3"
  },
  "language_info": {
   "codemirror_mode": {
    "name": "ipython",
    "version": 3
   },
   "file_extension": ".py",
   "mimetype": "text/x-python",
   "name": "python",
   "nbconvert_exporter": "python",
   "pygments_lexer": "ipython3",
   "version": "3.11.3"
  }
 },
 "nbformat": 4,
 "nbformat_minor": 5
}
