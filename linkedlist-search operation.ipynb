{
 "cells": [
  {
   "cell_type": "code",
   "execution_count": 1,
   "id": "00323fb1-48b0-49b9-a3fe-ddd54f83a227",
   "metadata": {},
   "outputs": [
    {
     "name": "stdout",
     "output_type": "stream",
     "text": [
      "\n",
      " LinkedList-Insert...\n",
      "1.Insert\n",
      "2.Display\n",
      "3.Search\n",
      "4.Exit\n"
     ]
    },
    {
     "name": "stdin",
     "output_type": "stream",
     "text": [
      "Enter your choice: 1\n",
      "Enter a value to insert: 23\n"
     ]
    },
    {
     "name": "stdout",
     "output_type": "stream",
     "text": [
      "\n",
      " LinkedList-Insert...\n",
      "1.Insert\n",
      "2.Display\n",
      "3.Search\n",
      "4.Exit\n"
     ]
    },
    {
     "name": "stdin",
     "output_type": "stream",
     "text": [
      "Enter your choice: 1\n",
      "Enter a value to insert: 55\n"
     ]
    },
    {
     "name": "stdout",
     "output_type": "stream",
     "text": [
      "\n",
      " LinkedList-Insert...\n",
      "1.Insert\n",
      "2.Display\n",
      "3.Search\n",
      "4.Exit\n"
     ]
    },
    {
     "name": "stdin",
     "output_type": "stream",
     "text": [
      "Enter your choice: 1\n",
      "Enter a value to insert: 37\n"
     ]
    },
    {
     "name": "stdout",
     "output_type": "stream",
     "text": [
      "\n",
      " LinkedList-Insert...\n",
      "1.Insert\n",
      "2.Display\n",
      "3.Search\n",
      "4.Exit\n"
     ]
    },
    {
     "name": "stdin",
     "output_type": "stream",
     "text": [
      "Enter your choice: 2\n"
     ]
    },
    {
     "name": "stdout",
     "output_type": "stream",
     "text": [
      "23---55---37---None\n",
      "\n",
      " LinkedList-Insert...\n",
      "1.Insert\n",
      "2.Display\n",
      "3.Search\n",
      "4.Exit\n"
     ]
    },
    {
     "name": "stdin",
     "output_type": "stream",
     "text": [
      "Enter your choice: 3\n",
      "Enter the value to search: 88\n"
     ]
    },
    {
     "name": "stdout",
     "output_type": "stream",
     "text": [
      "88 not found in linked list\n",
      "\n",
      " LinkedList-Insert...\n",
      "1.Insert\n",
      "2.Display\n",
      "3.Search\n",
      "4.Exit\n"
     ]
    },
    {
     "name": "stdin",
     "output_type": "stream",
     "text": [
      "Enter your choice: 3\n",
      "Enter the value to search: 55\n"
     ]
    },
    {
     "name": "stdout",
     "output_type": "stream",
     "text": [
      "55 found in the linkedlist\n",
      "\n",
      " LinkedList-Insert...\n",
      "1.Insert\n",
      "2.Display\n",
      "3.Search\n",
      "4.Exit\n"
     ]
    },
    {
     "name": "stdin",
     "output_type": "stream",
     "text": [
      "Enter your choice: 4\n"
     ]
    },
    {
     "name": "stdout",
     "output_type": "stream",
     "text": [
      "Exit\n"
     ]
    }
   ],
   "source": [
    "#search operation in linked list\n",
    "class Node:\n",
    "    def __init__(self,data):\n",
    "        self.data=data\n",
    "        self.next=None\n",
    "class LinkedList:\n",
    "    def __init__(self):\n",
    "        self.head=None\n",
    "    def iae(self,data):\n",
    "        newnode=Node(data)\n",
    "        if not self.head:\n",
    "            self.head=newnode\n",
    "            return\n",
    "        current=self.head\n",
    "        while current.next:\n",
    "            current=current.next\n",
    "        current.next=newnode\n",
    "    def search(self,key):\n",
    "        pos=1\n",
    "        current=self.head\n",
    "        while current:\n",
    "            if current.data==key:\n",
    "                print(f\"{key} found in the linkedlist\")\n",
    "                return True\n",
    "            current=current.next\n",
    "            pos+=1\n",
    "        print(f\"{key} not found in linked list\")\n",
    "        return False\n",
    "    def display(self):\n",
    "        current=self.head\n",
    "        if not current:\n",
    "            print(\"LL-Empty\")\n",
    "            return \n",
    "        while current:\n",
    "            print(current.data, end=\"---\")\n",
    "            current=current.next\n",
    "        print(\"None\")\n",
    "ll=LinkedList()\n",
    "while True:\n",
    "    print(\"\\n LinkedList-Insert...\")\n",
    "    print(\"1.Insert\")\n",
    "    print(\"2.Display\")\n",
    "    print(\"3.Search\")\n",
    "    print(\"4.Exit\")\n",
    "    choice=input(\"Enter your choice:\")\n",
    "    if choice=='1':\n",
    "        data=int(input(\"Enter a value to insert:\"))\n",
    "        ll.iae(data) \n",
    "    elif choice=='2':\n",
    "        ll.display()\n",
    "    elif choice=='3':\n",
    "        val=int(input(\"Enter the value to search:\"))\n",
    "        ll.search(val)\n",
    "    elif choice=='4':\n",
    "        print(\"Exit\")\n",
    "        break\n",
    "    else:\n",
    "        print(\"Enter the valid choice(1/2/3):\")"
   ]
  },
  {
   "cell_type": "code",
   "execution_count": null,
   "id": "1fe55406-ac87-4101-9276-7eb1b28c455f",
   "metadata": {},
   "outputs": [],
   "source": []
  }
 ],
 "metadata": {
  "kernelspec": {
   "display_name": "Python 3 (ipykernel)",
   "language": "python",
   "name": "python3"
  },
  "language_info": {
   "codemirror_mode": {
    "name": "ipython",
    "version": 3
   },
   "file_extension": ".py",
   "mimetype": "text/x-python",
   "name": "python",
   "nbconvert_exporter": "python",
   "pygments_lexer": "ipython3",
   "version": "3.12.7"
  }
 },
 "nbformat": 4,
 "nbformat_minor": 5
}
