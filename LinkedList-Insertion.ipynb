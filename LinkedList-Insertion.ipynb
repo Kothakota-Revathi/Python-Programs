{
 "cells": [
  {
   "cell_type": "code",
   "execution_count": 1,
   "id": "9f377e9d-523b-41fb-8e4a-f141c06b688a",
   "metadata": {},
   "outputs": [
    {
     "name": "stdout",
     "output_type": "stream",
     "text": [
      "\n",
      " LinkedList-Insert at beginning...\n",
      "1.Insert\n",
      "2.Display\n",
      "3.Exit\n"
     ]
    },
    {
     "name": "stdin",
     "output_type": "stream",
     "text": [
      "Enter your choice: 1\n",
      "Enter a value to inert: 1\n"
     ]
    },
    {
     "name": "stdout",
     "output_type": "stream",
     "text": [
      "(data) inserted at beginning\n",
      "\n",
      " LinkedList-Insert at beginning...\n",
      "1.Insert\n",
      "2.Display\n",
      "3.Exit\n"
     ]
    },
    {
     "name": "stdin",
     "output_type": "stream",
     "text": [
      "Enter your choice: 1\n",
      "Enter a value to inert: 22\n"
     ]
    },
    {
     "name": "stdout",
     "output_type": "stream",
     "text": [
      "(data) inserted at beginning\n",
      "\n",
      " LinkedList-Insert at beginning...\n",
      "1.Insert\n",
      "2.Display\n",
      "3.Exit\n"
     ]
    },
    {
     "name": "stdin",
     "output_type": "stream",
     "text": [
      "Enter your choice: 1\n",
      "Enter a value to inert: 88\n"
     ]
    },
    {
     "name": "stdout",
     "output_type": "stream",
     "text": [
      "(data) inserted at beginning\n",
      "\n",
      " LinkedList-Insert at beginning...\n",
      "1.Insert\n",
      "2.Display\n",
      "3.Exit\n"
     ]
    },
    {
     "name": "stdin",
     "output_type": "stream",
     "text": [
      "Enter your choice: 2\n"
     ]
    },
    {
     "name": "stdout",
     "output_type": "stream",
     "text": [
      "88---22---1---None\n",
      "\n",
      " LinkedList-Insert at beginning...\n",
      "1.Insert\n",
      "2.Display\n",
      "3.Exit\n"
     ]
    },
    {
     "name": "stdin",
     "output_type": "stream",
     "text": [
      "Enter your choice: 3\n"
     ]
    },
    {
     "name": "stdout",
     "output_type": "stream",
     "text": [
      "Exit\n"
     ]
    }
   ],
   "source": [
    "#linked list insertion at beginning\n",
    "class Node:\n",
    "    def __init__(self,data):\n",
    "        self.data=data\n",
    "        self.next=None\n",
    "class LinkedList:\n",
    "    def __init__(self):\n",
    "        self.head=None\n",
    "    def iab(self,data):\n",
    "        newnode=Node(data)\n",
    "        newnode.next=self.head\n",
    "        self.head=newnode\n",
    "        print(f\"{data} inserted at beginning\")\n",
    "    def display(self):\n",
    "        current=self.head\n",
    "        if not current:\n",
    "            print(\"LL-Empty\")\n",
    "            return \n",
    "        while current:\n",
    "            print(current.data, end=\"---\")\n",
    "            current=current.next\n",
    "        print(\"None\")\n",
    "ll=LinkedList()\n",
    "while True:\n",
    "    print(\"\\n LinkedList-Insert at beginning...\")\n",
    "    print(\"1.Insert\")\n",
    "    print(\"2.Display\")\n",
    "    print(\"3.Exit\")\n",
    "    choice=input(\"Enter your choice:\")\n",
    "    if choice=='1':\n",
    "        data=int(input(\"Enter a value to inert:\"))\n",
    "        ll.iab(data)\n",
    "    elif choice=='2':\n",
    "        ll.display()\n",
    "    elif choice=='3':\n",
    "        print(\"Exit\")\n",
    "        break\n",
    "    else:\n",
    "        print(\"Enter the valid choice(1/2/3):\")"
   ]
  },
  {
   "cell_type": "code",
   "execution_count": 2,
   "id": "b56a6f68-791c-4902-a097-41d34f4f6bab",
   "metadata": {},
   "outputs": [
    {
     "name": "stdout",
     "output_type": "stream",
     "text": [
      "\n",
      " LinkedList-Insert at end...\n",
      "1.Insert\n",
      "2.Display\n",
      "3.Exit\n"
     ]
    },
    {
     "name": "stdin",
     "output_type": "stream",
     "text": [
      "Enter your choice: 1\n",
      "Enter a value to inert: 23\n"
     ]
    },
    {
     "name": "stdout",
     "output_type": "stream",
     "text": [
      "23 inserted at end/will be the first node\n",
      "\n",
      " LinkedList-Insert at end...\n",
      "1.Insert\n",
      "2.Display\n",
      "3.Exit\n"
     ]
    },
    {
     "name": "stdin",
     "output_type": "stream",
     "text": [
      "Enter your choice: 1\n",
      "Enter a value to inert: 73\n"
     ]
    },
    {
     "name": "stdout",
     "output_type": "stream",
     "text": [
      "73 inserted at last\n",
      "\n",
      " LinkedList-Insert at end...\n",
      "1.Insert\n",
      "2.Display\n",
      "3.Exit\n"
     ]
    },
    {
     "name": "stdin",
     "output_type": "stream",
     "text": [
      "Enter your choice: 1\n",
      "Enter a value to inert: 55\n"
     ]
    },
    {
     "name": "stdout",
     "output_type": "stream",
     "text": [
      "55 inserted at last\n",
      "\n",
      " LinkedList-Insert at end...\n",
      "1.Insert\n",
      "2.Display\n",
      "3.Exit\n"
     ]
    },
    {
     "name": "stdin",
     "output_type": "stream",
     "text": [
      "Enter your choice: 1\n",
      "Enter a value to inert: 40\n"
     ]
    },
    {
     "name": "stdout",
     "output_type": "stream",
     "text": [
      "40 inserted at last\n",
      "\n",
      " LinkedList-Insert at end...\n",
      "1.Insert\n",
      "2.Display\n",
      "3.Exit\n"
     ]
    },
    {
     "name": "stdin",
     "output_type": "stream",
     "text": [
      "Enter your choice: 2\n"
     ]
    },
    {
     "name": "stdout",
     "output_type": "stream",
     "text": [
      "23---73---55---40---None\n",
      "\n",
      " LinkedList-Insert at end...\n",
      "1.Insert\n",
      "2.Display\n",
      "3.Exit\n"
     ]
    },
    {
     "name": "stdin",
     "output_type": "stream",
     "text": [
      "Enter your choice: 3\n"
     ]
    },
    {
     "name": "stdout",
     "output_type": "stream",
     "text": [
      "Exit\n"
     ]
    }
   ],
   "source": [
    "#linked list insertion at end\n",
    "class Node:\n",
    "    def __init__(self,data):\n",
    "        self.data=data\n",
    "        self.next=None\n",
    "class LinkedList:\n",
    "    def __init__(self):\n",
    "        self.head=None\n",
    "    def iae(self,data):\n",
    "        newnode=Node(data)\n",
    "        if self.head is None:\n",
    "            self.head=newnode\n",
    "            print(f\"{data} inserted at end/will be the first node\")\n",
    "            return\n",
    "        current=self.head\n",
    "        while current.next:\n",
    "            current=current.next\n",
    "        current.next=newnode\n",
    "        print(f\"{data} inserted at last\")\n",
    "    def display(self):\n",
    "        current=self.head\n",
    "        if not current:\n",
    "            print(\"LL-Empty\")\n",
    "            return \n",
    "        while current:\n",
    "            print(current.data, end=\"---\")\n",
    "            current=current.next\n",
    "        print(\"None\")\n",
    "ll=LinkedList()\n",
    "while True:\n",
    "    print(\"\\n LinkedList-Insert at end...\")\n",
    "    print(\"1.Insert\")\n",
    "    print(\"2.Display\")\n",
    "    print(\"3.Exit\")\n",
    "    choice=input(\"Enter your choice:\")\n",
    "    if choice=='1':\n",
    "        data=int(input(\"Enter a value to inert:\"))\n",
    "        ll.iae(data)\n",
    "    elif choice=='2':\n",
    "        ll.display()\n",
    "    elif choice=='3':\n",
    "        print(\"Exit\")\n",
    "        break\n",
    "    else:\n",
    "        print(\"Enter the valid choice(1/2/3):\")"
   ]
  },
  {
   "cell_type": "code",
   "execution_count": 5,
   "id": "dffc61c1-42f2-46e9-b750-de8721978e85",
   "metadata": {},
   "outputs": [
    {
     "name": "stdout",
     "output_type": "stream",
     "text": [
      "\n",
      " LinkedList-Insert at position...\n",
      "1.Insert\n",
      "2.Display\n",
      "3.Exit\n"
     ]
    },
    {
     "name": "stdin",
     "output_type": "stream",
     "text": [
      "Enter your choice: 1\n",
      "Enter a value to inert: 33\n",
      "enter positon: 1\n"
     ]
    },
    {
     "name": "stdout",
     "output_type": "stream",
     "text": [
      "33 inserted at pos-1\n",
      "\n",
      " LinkedList-Insert at position...\n",
      "1.Insert\n",
      "2.Display\n",
      "3.Exit\n"
     ]
    },
    {
     "name": "stdin",
     "output_type": "stream",
     "text": [
      "Enter your choice: 1\n",
      "Enter a value to inert: 23\n",
      "enter positon: 2\n"
     ]
    },
    {
     "name": "stdout",
     "output_type": "stream",
     "text": [
      "23 inserted at position 2\n",
      "\n",
      " LinkedList-Insert at position...\n",
      "1.Insert\n",
      "2.Display\n",
      "3.Exit\n"
     ]
    },
    {
     "name": "stdin",
     "output_type": "stream",
     "text": [
      "Enter your choice: 1\n",
      "Enter a value to inert: 40\n",
      "enter positon: 4\n"
     ]
    },
    {
     "name": "stdout",
     "output_type": "stream",
     "text": [
      "Not in range\n",
      "\n",
      " LinkedList-Insert at position...\n",
      "1.Insert\n",
      "2.Display\n",
      "3.Exit\n"
     ]
    },
    {
     "name": "stdin",
     "output_type": "stream",
     "text": [
      "Enter your choice: 2\n"
     ]
    },
    {
     "name": "stdout",
     "output_type": "stream",
     "text": [
      "33---23---None\n",
      "\n",
      " LinkedList-Insert at position...\n",
      "1.Insert\n",
      "2.Display\n",
      "3.Exit\n"
     ]
    },
    {
     "name": "stdin",
     "output_type": "stream",
     "text": [
      "Enter your choice: 3\n"
     ]
    },
    {
     "name": "stdout",
     "output_type": "stream",
     "text": [
      "Exit\n"
     ]
    }
   ],
   "source": [
    "#linked list insertion at a paticular position\n",
    "class Node:\n",
    "    def __init__(self,data):\n",
    "        self.data=data\n",
    "        self.next=None\n",
    "class LinkedList:\n",
    "    def __init__(self):\n",
    "        self.head=None\n",
    "    def iap(self,data,pos):\n",
    "        newnode=Node(data)\n",
    "        if pos<=0:\n",
    "            print(\"Position min>=1\")\n",
    "            return\n",
    "        if pos==1: #begin start\n",
    "            newnode.next=self.head\n",
    "            self.head=newnode\n",
    "            print(f\"{data} inserted at pos-1\")\n",
    "            return\n",
    "        current=self.head\n",
    "        c=1\n",
    "        while current and c<pos-1:\n",
    "            current=current.next\n",
    "            c+=1\n",
    "        if not current:\n",
    "            print(\"Not in range\")\n",
    "            return\n",
    "        newnode.next=current.next\n",
    "        current.next=newnode\n",
    "        print(f\"{data} inserted at position {pos}\")\n",
    "    def display(self):\n",
    "        current=self.head\n",
    "        if not current:\n",
    "            print(\"LL-Empty\")\n",
    "            return \n",
    "        while current:\n",
    "            print(current.data, end=\"---\")\n",
    "            current=current.next\n",
    "        print(\"None\")\n",
    "ll=LinkedList()\n",
    "while True:\n",
    "    print(\"\\n LinkedList-Insert at position...\")\n",
    "    print(\"1.Insert\")\n",
    "    print(\"2.Display\")\n",
    "    print(\"3.Exit\")\n",
    "    choice=input(\"Enter your choice:\")\n",
    "    if choice=='1':\n",
    "        data=int(input(\"Enter a value to insert:\"))\n",
    "        pos=int(input(\"enter positon:\"))\n",
    "        ll.iap(data,pos) \n",
    "    elif choice=='2':\n",
    "        ll.display()\n",
    "    elif choice=='3':\n",
    "        print(\"Exit\")\n",
    "        break\n",
    "    else:\n",
    "        print(\"Enter the valid choice(1/2/3):\")"
   ]
  },
  {
   "cell_type": "code",
   "execution_count": null,
   "id": "fae350b8-fdc2-4cfc-afa7-75c8a61919b8",
   "metadata": {},
   "outputs": [],
   "source": []
  }
 ],
 "metadata": {
  "kernelspec": {
   "display_name": "Python 3 (ipykernel)",
   "language": "python",
   "name": "python3"
  },
  "language_info": {
   "codemirror_mode": {
    "name": "ipython",
    "version": 3
   },
   "file_extension": ".py",
   "mimetype": "text/x-python",
   "name": "python",
   "nbconvert_exporter": "python",
   "pygments_lexer": "ipython3",
   "version": "3.12.7"
  }
 },
 "nbformat": 4,
 "nbformat_minor": 5
}
