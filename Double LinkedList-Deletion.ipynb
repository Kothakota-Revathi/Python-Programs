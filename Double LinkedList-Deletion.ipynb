{
 "cells": [
  {
   "cell_type": "code",
   "execution_count": 1,
   "id": "e2b9571f-4b7e-4360-a3ac-c0249259bdb1",
   "metadata": {},
   "outputs": [
    {
     "name": "stdin",
     "output_type": "stream",
     "text": [
      "Enter the number of elements to insert at beginning: 6\n",
      "Enter element 1: 10\n",
      "Enter element 2: 20\n",
      "Enter element 3: 30\n",
      "Enter element 4: 40\n",
      "Enter element 5: 50\n",
      "Enter element 6: 60\n"
     ]
    },
    {
     "name": "stdout",
     "output_type": "stream",
     "text": [
      "Double Linked List:\n",
      "60<-->50<-->40<-->30<-->20<-->10<-->None\n"
     ]
    },
    {
     "name": "stdin",
     "output_type": "stream",
     "text": [
      "Enter how many times you want to perform delete operation: 2\n"
     ]
    },
    {
     "name": "stdout",
     "output_type": "stream",
     "text": [
      "Deleted: 60\n",
      "Deleted: 50\n",
      "Double Linked List:\n",
      "40<-->30<-->20<-->10<-->None\n"
     ]
    }
   ],
   "source": [
    "#Double linked list insert at beginning by delete at beginning\n",
    "class Node:\n",
    "    def __init__(self,data):\n",
    "        self.data=data\n",
    "        self.prev=None\n",
    "        self.next=None\n",
    "class DoubleLinkedList:\n",
    "    def __init__(self):\n",
    "        self.head=None\n",
    "    def iab(self,data):\n",
    "        newnode=Node(data)\n",
    "        newnode.next=self.head\n",
    "        if self.head:\n",
    "            self.head.prev=newnode\n",
    "        self.head=newnode\n",
    "    def dab(self):\n",
    "        if not self.head:\n",
    "            print(\"Cannot perform delete operation in an empty list\")\n",
    "        print(f\"Deleted: {self.head.data}\")\n",
    "        self.head=self.head.next\n",
    "        if self.head:\n",
    "            self.head.prev=None\n",
    "    def display(self):\n",
    "        current=self.head\n",
    "        print(\"Double Linked List:\")\n",
    "        while current:\n",
    "            print(current.data, end=\"<-->\")\n",
    "            current=current.next\n",
    "        print(\"None\")\n",
    "dll=DoubleLinkedList()\n",
    "n=int(input(\"Enter the number of elements to insert at beginning:\"))\n",
    "for i in range(n):\n",
    "    value=int(input(f\"Enter element {i+1}:\"))\n",
    "    dll.iab(value)\n",
    "dll.display()\n",
    "d=int(input(\"Enter how many times you want to perform delete operation:\"))\n",
    "for _ in range(d):\n",
    "    dll.dab()\n",
    "dll.display()"
   ]
  },
  {
   "cell_type": "code",
   "execution_count": 7,
   "id": "a78f7ac6-42f0-4f42-afc9-fb36e23f408f",
   "metadata": {},
   "outputs": [
    {
     "name": "stdin",
     "output_type": "stream",
     "text": [
      "Enter the number of elements to insert at beginning: 5\n",
      "Enter element 1: 11\n",
      "Enter element 2: 22\n",
      "Enter element 3: 33\n",
      "Enter element 4: 44\n",
      "Enter element 5: 55\n"
     ]
    },
    {
     "name": "stdout",
     "output_type": "stream",
     "text": [
      "Double Linked List:\n",
      "55<-->44<-->33<-->22<-->11<-->None\n"
     ]
    },
    {
     "name": "stdin",
     "output_type": "stream",
     "text": [
      "Enter how many times you want to perform delete operation at end: 2\n"
     ]
    },
    {
     "name": "stdout",
     "output_type": "stream",
     "text": [
      "Deleted: 11\n",
      "Deleted: 22\n",
      "Double Linked List:\n",
      "55<-->44<-->33<-->None\n"
     ]
    }
   ],
   "source": [
    "#Double linked list inserting at beginning and delete at end \n",
    "class Node:\n",
    "    def __init__(self,data):\n",
    "        self.data=data\n",
    "        self.prev=None\n",
    "        self.next=None\n",
    "class DoubleLinkedList:\n",
    "    def __init__(self):\n",
    "        self.head=None\n",
    "    def iab(self,data):\n",
    "        newnode=Node(data)\n",
    "        newnode.next=self.head\n",
    "        if self.head:\n",
    "            self.head.prev=newnode\n",
    "        self.head=newnode\n",
    "    def dae(self):\n",
    "        if self.head is None:\n",
    "            print(\"Cannot perform in an empty list\")\n",
    "            return\n",
    "        temp=self.head\n",
    "        while temp.next:\n",
    "            temp=temp.next\n",
    "        print(f\"Deleted: {temp.data}\")\n",
    "        if temp.prev:\n",
    "            temp.prev.next=None\n",
    "        else:\n",
    "            self.head=None\n",
    "    def display(self):\n",
    "        current=self.head\n",
    "        print(\"Double Linked List:\")\n",
    "        while current:\n",
    "            print(current.data, end=\"<-->\")\n",
    "            current=current.next\n",
    "        print(\"None\")\n",
    "dll=DoubleLinkedList()\n",
    "n=int(input(\"Enter the number of elements to insert at beginning:\"))\n",
    "for i in range(n):\n",
    "    value=int(input(f\"Enter element {i+1}:\"))\n",
    "    dll.iab(value)\n",
    "dll.display()\n",
    "d=int(input(\"Enter how many times you want to perform delete operation at end:\"))\n",
    "for _ in range(d):\n",
    "    dll.dae()\n",
    "dll.display()"
   ]
  },
  {
   "cell_type": "code",
   "execution_count": 12,
   "id": "45d78796-d22e-4473-b9ce-9faa8800abf4",
   "metadata": {},
   "outputs": [
    {
     "name": "stdin",
     "output_type": "stream",
     "text": [
      "Enter the number of elements to insert at end: 4\n",
      "Enter element 1: 10\n",
      "Enter element 2: 20\n",
      "Enter element 3: 30\n",
      "Enter element 4: 40\n"
     ]
    },
    {
     "name": "stdout",
     "output_type": "stream",
     "text": [
      "Double Linked List:\n",
      "10<-->20<-->30<-->40<-->None\n"
     ]
    },
    {
     "name": "stdin",
     "output_type": "stream",
     "text": [
      "Enter number of times you want to perform delete operation at beginning: 2\n"
     ]
    },
    {
     "name": "stdout",
     "output_type": "stream",
     "text": [
      "Deleted: 10\n",
      "Deleted: 20\n",
      "Double Linked List:\n",
      "30<-->40<-->None\n"
     ]
    }
   ],
   "source": [
    "#Double Linked List inserting at end and delete at beginning\n",
    "class Node:\n",
    "    def __init__(self,data):\n",
    "        self.data=data\n",
    "        self.prev=None\n",
    "        self.next=None\n",
    "class DoubleLinkedList:\n",
    "    def __init__(self):\n",
    "        self.head=None\n",
    "    def iae(self,data):\n",
    "        newnode=Node(data)\n",
    "        if self.head is None:\n",
    "            self.head=newnode\n",
    "            return\n",
    "        temp=self.head\n",
    "        while temp.next:\n",
    "            temp=temp.next\n",
    "        temp.next=newnode\n",
    "        newnode.prev=temp\n",
    "    def dab(self):\n",
    "        if not self.head:\n",
    "            print(\"Cannot perform delete operation in an empty list\")\n",
    "        print(f\"Deleted: {self.head.data}\")\n",
    "        self.head=self.head.next\n",
    "        if self.head:\n",
    "            self.head.prev=None\n",
    "    def display(self):\n",
    "        temp=self.head\n",
    "        print(\"Double Linked List:\")\n",
    "        while temp:\n",
    "            print(temp.data,end=\"<-->\")\n",
    "            temp=temp.next\n",
    "        print(\"None\")\n",
    "dll=DoubleLinkedList()\n",
    "n=int(input(\"Enter the number of elements to insert at end:\"))\n",
    "for i in range(n):\n",
    "    value=int(input(f\"Enter element {i+1}:\"))\n",
    "    dll.iae(value)\n",
    "dll.display()\n",
    "d=int(input(\"Enter number of times you want to perform delete operation at beginning:\"))\n",
    "for _ in range(d):\n",
    "    dll.dab()\n",
    "dll.display()\n"
   ]
  },
  {
   "cell_type": "code",
   "execution_count": 21,
   "id": "db928dc0-c553-4c0e-aac2-1c0be7f14d59",
   "metadata": {},
   "outputs": [
    {
     "name": "stdin",
     "output_type": "stream",
     "text": [
      "Enter the number of elements to insert at end: 5\n",
      "Enter element 1: 11\n",
      "Enter element 2: 22\n",
      "Enter element 3: 33\n",
      "Enter element 4: 44\n",
      "Enter element 5: 55\n"
     ]
    },
    {
     "name": "stdout",
     "output_type": "stream",
     "text": [
      "Double Linked List:\n",
      "11<-->22<-->33<-->44<-->55<-->None\n"
     ]
    },
    {
     "name": "stdin",
     "output_type": "stream",
     "text": [
      "Enter number of times you want to perform delete operation at end: 2\n"
     ]
    },
    {
     "name": "stdout",
     "output_type": "stream",
     "text": [
      "Deleted: 55\n",
      "Deleted: 44\n",
      "Double Linked List:\n",
      "11<-->22<-->33<-->None\n"
     ]
    }
   ],
   "source": [
    "#Double Linked List inserting at end and delete at end\n",
    "class Node:\n",
    "    def __init__(self,data):\n",
    "        self.data=data\n",
    "        self.prev=None\n",
    "        self.next=None\n",
    "class DoubleLinkedList:\n",
    "    def __init__(self):\n",
    "        self.head=None\n",
    "    def iae(self,data):\n",
    "        newnode=Node(data)\n",
    "        if self.head is None:\n",
    "            self.head=newnode\n",
    "            return\n",
    "        temp=self.head\n",
    "        while temp.next:\n",
    "            temp=temp.next\n",
    "        temp.next=newnode\n",
    "        newnode.prev=temp\n",
    "    def dae(self):\n",
    "        if self.head is None:\n",
    "            print(\"Cannot perform in an empty list\")\n",
    "            return\n",
    "        temp=self.head\n",
    "        while temp.next:\n",
    "            temp=temp.next\n",
    "        print(f\"Deleted: {temp.data}\")\n",
    "        if temp.prev:\n",
    "            temp.prev.next=None\n",
    "        else:\n",
    "            self.head=None\n",
    "    def display(self):\n",
    "        temp=self.head\n",
    "        print(\"Double Linked List:\")\n",
    "        while temp:\n",
    "            print(temp.data,end=\"<-->\")\n",
    "            temp=temp.next\n",
    "        print(\"None\")\n",
    "dll=DoubleLinkedList()\n",
    "n=int(input(\"Enter the number of elements to insert at end:\"))\n",
    "for i in range(n):\n",
    "    value=int(input(f\"Enter element {i+1}:\"))\n",
    "    dll.iae(value)\n",
    "dll.display()\n",
    "d=int(input(\"Enter number of times you want to perform delete operation at end:\"))\n",
    "for _ in range(d):\n",
    "    dll.dae()\n",
    "dll.display()\n"
   ]
  },
  {
   "cell_type": "code",
   "execution_count": 28,
   "id": "94ceddc5-857d-4964-a4ec-26f5d2fe9202",
   "metadata": {},
   "outputs": [
    {
     "name": "stdin",
     "output_type": "stream",
     "text": [
      "Enter the number of elements to insert at end: 4\n",
      "Enter element 1: 10\n",
      "Enter element 2: 20\n",
      "Enter element 3: 30\n",
      "Enter element 4: 40\n"
     ]
    },
    {
     "name": "stdout",
     "output_type": "stream",
     "text": [
      "Double Linked List:\n",
      "10<-->20<-->30<-->40<-->None\n"
     ]
    },
    {
     "name": "stdin",
     "output_type": "stream",
     "text": [
      "Enter the value to delete: 20\n"
     ]
    },
    {
     "name": "stdout",
     "output_type": "stream",
     "text": [
      "20 deleted from LL\n",
      "Double Linked List:\n",
      "10<-->30<-->40<-->None\n"
     ]
    }
   ],
   "source": [
    "#delete operation by value by inserting at end\n",
    "class Node:\n",
    "    def __init__(self,data):\n",
    "        self.data=data\n",
    "        self.prev=None\n",
    "        self.next=None\n",
    "class DoubleLinkedList:\n",
    "    def __init__(self):\n",
    "        self.head=None\n",
    "    def iae(self,data):\n",
    "        newnode=Node(data)\n",
    "        if self.head is None:\n",
    "            self.head=newnode\n",
    "            return\n",
    "        temp=self.head\n",
    "        while temp.next:\n",
    "            temp=temp.next\n",
    "        temp.next=newnode\n",
    "        newnode.prev=temp\n",
    "    def deletevalue(self,key):\n",
    "         current=self.head\n",
    "         if not current:\n",
    "             print(\"Empty linked list\")\n",
    "             return\n",
    "         if current.data==key:\n",
    "             self.head=current.next\n",
    "             print(f\"{key} deleted from list\")\n",
    "             return\n",
    "         prev=None\n",
    "         while current and current.data!=key:\n",
    "             prev=current\n",
    "             current=current.next\n",
    "         if not current:\n",
    "             print(f\"{key} not found\")\n",
    "             return\n",
    "         prev.next=current.next\n",
    "         print(f\"{key} deleted from LL\")\n",
    "    def display(self):\n",
    "        current=self.head\n",
    "        if not current:\n",
    "            print(\"LL-Empty\")\n",
    "            return \n",
    "        while current:\n",
    "            print(current.data, end=\"---\")\n",
    "            current=current.next\n",
    "        print(\"None\")\n",
    "    def display(self):\n",
    "        temp=self.head\n",
    "        print(\"Double Linked List:\")\n",
    "        while temp:\n",
    "            print(temp.data,end=\"<-->\")\n",
    "            temp=temp.next\n",
    "        print(\"None\")\n",
    "dll=DoubleLinkedList()\n",
    "n=int(input(\"Enter the number of elements to insert at end:\"))\n",
    "for i in range(n):\n",
    "    value=int(input(f\"Enter element {i+1}:\"))\n",
    "    dll.iae(value)\n",
    "dll.display()\n",
    "value=int(input(\"Enter the value to delete:\"))\n",
    "dll.deletevalue(value)\n",
    "dll.display()"
   ]
  },
  {
   "cell_type": "code",
   "execution_count": null,
   "id": "3d501f66-a73c-4b6a-b9f6-dba25d899a85",
   "metadata": {},
   "outputs": [],
   "source": []
  }
 ],
 "metadata": {
  "kernelspec": {
   "display_name": "Python 3 (ipykernel)",
   "language": "python",
   "name": "python3"
  },
  "language_info": {
   "codemirror_mode": {
    "name": "ipython",
    "version": 3
   },
   "file_extension": ".py",
   "mimetype": "text/x-python",
   "name": "python",
   "nbconvert_exporter": "python",
   "pygments_lexer": "ipython3",
   "version": "3.12.7"
  }
 },
 "nbformat": 4,
 "nbformat_minor": 5
}
