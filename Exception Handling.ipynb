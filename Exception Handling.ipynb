{
 "cells": [
  {
   "cell_type": "code",
   "execution_count": 1,
   "id": "eec25220-2c34-4ce6-ae85-22d99ff9acad",
   "metadata": {},
   "outputs": [
    {
     "ename": "ZeroDivisionError",
     "evalue": "division by zero",
     "output_type": "error",
     "traceback": [
      "\u001b[1;31m---------------------------------------------------------------------------\u001b[0m",
      "\u001b[1;31mZeroDivisionError\u001b[0m                         Traceback (most recent call last)",
      "Cell \u001b[1;32mIn[1], line 1\u001b[0m\n\u001b[1;32m----> 1\u001b[0m \u001b[38;5;28mprint\u001b[39m(\u001b[38;5;241m11\u001b[39m\u001b[38;5;241m/\u001b[39m\u001b[38;5;241m0\u001b[39m)\n",
      "\u001b[1;31mZeroDivisionError\u001b[0m: division by zero"
     ]
    }
   ],
   "source": [
    "print(11/0) #zero division error"
   ]
  },
  {
   "cell_type": "code",
   "execution_count": 3,
   "id": "ab016f5d-15e5-4fc0-ae84-2b7fc05fb2dd",
   "metadata": {},
   "outputs": [
    {
     "ename": "TypeError",
     "evalue": "can only concatenate str (not \"int\") to str",
     "output_type": "error",
     "traceback": [
      "\u001b[1;31m---------------------------------------------------------------------------\u001b[0m",
      "\u001b[1;31mTypeError\u001b[0m                                 Traceback (most recent call last)",
      "Cell \u001b[1;32mIn[3], line 1\u001b[0m\n\u001b[1;32m----> 1\u001b[0m \u001b[38;5;28mprint\u001b[39m(\u001b[38;5;124m'\u001b[39m\u001b[38;5;124m11\u001b[39m\u001b[38;5;124m'\u001b[39m\u001b[38;5;241m+\u001b[39m\u001b[38;5;241m0\u001b[39m)\n",
      "\u001b[1;31mTypeError\u001b[0m: can only concatenate str (not \"int\") to str"
     ]
    }
   ],
   "source": [
    "print('11'+0) #Type error"
   ]
  },
  {
   "cell_type": "code",
   "execution_count": 15,
   "id": "63463acc-173b-466d-abf7-df7b0fad2c66",
   "metadata": {},
   "outputs": [
    {
     "name": "stdin",
     "output_type": "stream",
     "text": [
      "Enter numerator: 11\n",
      "Enter denominator: 0\n"
     ]
    },
    {
     "name": "stdout",
     "output_type": "stream",
     "text": [
      "Cannot divide by zero...\n"
     ]
    }
   ],
   "source": [
    "#zero division error hadling\n",
    "try:\n",
    "    num1=int(input(\"Enter numerator:\"))\n",
    "    num2=int(input(\"Enter denominator:\"))\n",
    "    output=num1/num2\n",
    "    print(\"Result:\",output)\n",
    "except ZeroDivisionError:\n",
    "    print(\"Cannot divide by zero...\")"
   ]
  },
  {
   "cell_type": "code",
   "execution_count": 37,
   "id": "dabf8226-bce7-43e9-ba72-1a9c4fe60817",
   "metadata": {},
   "outputs": [
    {
     "name": "stdin",
     "output_type": "stream",
     "text": [
      "Enter the file name: file1.txt\n"
     ]
    },
    {
     "name": "stdout",
     "output_type": "stream",
     "text": [
      "Number from a file 10\n"
     ]
    }
   ],
   "source": [
    "#file exception\n",
    "try:\n",
    "    filename=input(\"Enter the file name:\")\n",
    "    file=open(filename,'r')\n",
    "    number=int(file.readline())\n",
    "    print(\"Number from a file\",number)\n",
    "    file.close()\n",
    "except FileNotFoundError:\n",
    "    print(\"File does not exist...\")\n",
    "except ValueError:\n",
    "    print(\"File does not have an integer..\")\n",
    "except:\n",
    "    print(\"Unknown Error...\")"
   ]
  },
  {
   "cell_type": "code",
   "execution_count": 43,
   "id": "94384e6c-53db-4d61-a7d8-eb78fdac141e",
   "metadata": {},
   "outputs": [
    {
     "name": "stdin",
     "output_type": "stream",
     "text": [
      "Enter a number: 3\n"
     ]
    },
    {
     "name": "stdout",
     "output_type": "stream",
     "text": [
      "27\n",
      "Program Terminated...\n"
     ]
    }
   ],
   "source": [
    "try:\n",
    "    num=int(input(\"Enter a number:\"))\n",
    "    print(num**3)\n",
    "except (KeyboardInterrupt,ValueError,TypeError):\n",
    "    print(\"Please check before executing...\")\n",
    "print(\"Program Terminated...\")"
   ]
  },
  {
   "cell_type": "code",
   "execution_count": 47,
   "id": "c78de9d6-0302-49aa-88c5-b3185f12c4c5",
   "metadata": {},
   "outputs": [
    {
     "name": "stdin",
     "output_type": "stream",
     "text": [
      "Enter a number: -40\n"
     ]
    },
    {
     "name": "stdout",
     "output_type": "stream",
     "text": [
      "Enter positive number only..\n"
     ]
    }
   ],
   "source": [
    "import math\n",
    "try:\n",
    "    num=int(input(\"Enter a number:\"))\n",
    "    if num<0:\n",
    "        raise ValueError(\"Negative Number..\")\n",
    "except ValueError:\n",
    "    print(\"Enter positive number only..\")\n",
    "else:\n",
    "    print(\"Square Root:\",round(math.sqrt(num),4))"
   ]
  },
  {
   "cell_type": "code",
   "execution_count": 53,
   "id": "72931af4-05ba-430f-8b83-ae58d89a21f8",
   "metadata": {},
   "outputs": [
    {
     "name": "stdin",
     "output_type": "stream",
     "text": [
      "enter a number: 40\n"
     ]
    },
    {
     "name": "stdout",
     "output_type": "stream",
     "text": [
      "40\n",
      "Exception raised intentionally even no use..\n"
     ]
    }
   ],
   "source": [
    "import math \n",
    "try:\n",
    "    num=int(input(\"enter a number:\"))\n",
    "    print(num)\n",
    "    raise ValueError\n",
    "except:\n",
    "    print(\"Exception raised intentionally even no use..\")"
   ]
  },
  {
   "cell_type": "code",
   "execution_count": 85,
   "id": "08522f25-16af-46b6-b3e2-5a41cebca2b5",
   "metadata": {},
   "outputs": [
    {
     "name": "stdin",
     "output_type": "stream",
     "text": [
      "enter numerator: 22\n",
      "enter denominator: 0\n"
     ]
    }
   ],
   "source": [
    "import datetime\n",
    "try:\n",
    "    x=int(input(\"enter numerator:\"))\n",
    "    y=int(input(\"enter denominator:\"))\n",
    "    print(\"result:\",x/y)\n",
    "except (ZeroDivisionError,ValueError,NameError) as e:\n",
    "    ct=datetime.datetime.now().strftime(\"%Y-%m-%d %H:%M:%S\")\n",
    "    txt=f\"[{ct} Error:{str(e)}] \\n\"\n",
    "    with open('data.txt','a') as file:\n",
    "        file.write(txt)"
   ]
  },
  {
   "cell_type": "code",
   "execution_count": null,
   "id": "f9a9b5a4-0cf8-4e0a-9f02-e9956e128c19",
   "metadata": {},
   "outputs": [],
   "source": []
  }
 ],
 "metadata": {
  "kernelspec": {
   "display_name": "Python 3 (ipykernel)",
   "language": "python",
   "name": "python3"
  },
  "language_info": {
   "codemirror_mode": {
    "name": "ipython",
    "version": 3
   },
   "file_extension": ".py",
   "mimetype": "text/x-python",
   "name": "python",
   "nbconvert_exporter": "python",
   "pygments_lexer": "ipython3",
   "version": "3.12.7"
  }
 },
 "nbformat": 4,
 "nbformat_minor": 5
}
