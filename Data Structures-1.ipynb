{
 "cells": [
  {
   "cell_type": "code",
   "execution_count": 6,
   "id": "10454eee-fd04-4011-b6b7-b1f2b3506c22",
   "metadata": {},
   "outputs": [
    {
     "name": "stdout",
     "output_type": "stream",
     "text": [
      "[10, 20, 25, 30, 40, 50]\n",
      "10 20 25 30 40 50 [10, 20, 25, 40]\n",
      "10 20 25 40 \n",
      " 25 in array? True\n"
     ]
    }
   ],
   "source": [
    "#Array operations\n",
    "\"\"\"program to consider a list arr=[10,20,30,40] and perform insert operation with 50 and 25 at position 2 respectively,delete 30 and traverse\n",
    "the array to fetch a number 25 is present or not\"\"\"\n",
    "arr=[10,20,30,40]\n",
    "#insert\n",
    "arr.append(50)\n",
    "arr.insert(2,25)\n",
    "print(arr)\n",
    "#deletion\n",
    "arr.remove(30)\n",
    "arr.pop()\n",
    "print(arr)\n",
    "#traversal\n",
    "for i in arr:\n",
    "    print(i,end=\" \")\n",
    "#searching\n",
    "print(\"\\n 25 in array?\",25 in arr)"
   ]
  },
  {
   "cell_type": "code",
   "execution_count": 7,
   "id": "2a937b91-5dda-4692-825c-cc78a3b44934",
   "metadata": {},
   "outputs": [
    {
     "name": "stdin",
     "output_type": "stream",
     "text": [
      "enter a name: malayalam\n"
     ]
    },
    {
     "name": "stdout",
     "output_type": "stream",
     "text": [
      "palindrome\n",
      "{'m': 1}\n",
      "{'m': 1, 'a': 1}\n",
      "{'m': 1, 'a': 1, 'l': 1}\n",
      "{'m': 1, 'a': 2, 'l': 1}\n",
      "{'m': 1, 'a': 2, 'l': 1, 'y': 1}\n",
      "{'m': 1, 'a': 3, 'l': 1, 'y': 1}\n",
      "{'m': 1, 'a': 3, 'l': 2, 'y': 1}\n",
      "{'m': 1, 'a': 4, 'l': 2, 'y': 1}\n",
      "{'m': 2, 'a': 4, 'l': 2, 'y': 1}\n"
     ]
    }
   ],
   "source": [
    "''''program to check whether the given string is palindrome or not and count the palindromic characters which are repeated\n",
    "str=madam\n",
    "output:{'m':2,'a':2,'d':1}\n",
    "str=malayalam'''\n",
    "text=input(\"enter a name:\")\n",
    "if text==text[::-1]:\n",
    "    print(\"palindrome\")\n",
    "else:\n",
    "     print(\"not\")\n",
    "freq={}\n",
    "for ch in text:\n",
    "    freq[ch]= freq.get(ch,0)+1\n",
    "    print(freq)"
   ]
  },
  {
   "cell_type": "code",
   "execution_count": 12,
   "id": "4a138c9f-6ab2-4aa1-a335-d656ee57c433",
   "metadata": {},
   "outputs": [
    {
     "name": "stdin",
     "output_type": "stream",
     "text": [
      "enter the size of array: 4\n"
     ]
    },
    {
     "name": "stdout",
     "output_type": "stream",
     "text": [
      "Enter the elements:\n"
     ]
    },
    {
     "name": "stdin",
     "output_type": "stream",
     "text": [
      "Enter number1: 1\n",
      "Enter number2: 2\n",
      "Enter number3: 3\n",
      "Enter number4: 4\n",
      "enter the element to search: 3\n"
     ]
    },
    {
     "name": "stdout",
     "output_type": "stream",
     "text": [
      "\n",
      " element 3 found at 2\n"
     ]
    }
   ],
   "source": [
    "#linear search\n",
    "def linear_search(arr,key):\n",
    "    for i in range(len(arr)):\n",
    "        if arr[i]==key:\n",
    "            return i\n",
    "    return -1\n",
    "size=int(input(\"enter the size of array:\"))\n",
    "arr=[]\n",
    "print(\"Enter the elements:\")\n",
    "for i in range(size):\n",
    "    num=int(input(f\"Enter number{i+1}:\"))\n",
    "    arr.append(num)\n",
    "key=int(input(\"enter the element to search:\"))\n",
    "result=linear_search(arr,key)\n",
    "if result!= -1:\n",
    "    print(f\"\\n element {key} found at {result}\")\n",
    "else:\n",
    "    print(f\"\\n element {key} not found in the array\")"
   ]
  },
  {
   "cell_type": "code",
   "execution_count": 14,
   "id": "de8fd663-d40f-4199-9a90-4771f2af7f9c",
   "metadata": {},
   "outputs": [
    {
     "name": "stdin",
     "output_type": "stream",
     "text": [
      "enter the size of array: 4\n"
     ]
    },
    {
     "name": "stdout",
     "output_type": "stream",
     "text": [
      "Enter the elements:\n"
     ]
    },
    {
     "name": "stdin",
     "output_type": "stream",
     "text": [
      "Enter number1: 5\n",
      "Enter number2: 6\n",
      "Enter number3: 7\n",
      "Enter number4: 8\n",
      "enter the element to search: 7\n"
     ]
    },
    {
     "name": "stdout",
     "output_type": "stream",
     "text": [
      "\n",
      " element 7 found at 7\n"
     ]
    }
   ],
   "source": [
    "#binary search\n",
    "def binary_search(arr,key):\n",
    "    low=0\n",
    "    high=len(arr)-1\n",
    "    while low<=high:\n",
    "        mid=(low+high)//2\n",
    "        if arr[mid]==key:\n",
    "            return mid\n",
    "        elif arr[mid]<key:\n",
    "            low=mid+1\n",
    "        else:\n",
    "            high=mid-1\n",
    "    return -1\n",
    "size=int(input(\"enter the size of array:\"))\n",
    "arr=[]\n",
    "print(\"Enter the elements:\")\n",
    "for i in range(size):\n",
    "    num=int(input(f\"Enter number{i+1}:\"))\n",
    "    arr.append(num)\n",
    "key=int(input(\"enter the element to search:\"))\n",
    "result=binary_search(arr,key)\n",
    "if result!= -1:\n",
    "    print(f\"\\n element {key} found at {result}\")\n",
    "else:\n",
    "    print(f\"\\n element {key} not found in the array\")"
   ]
  },
  {
   "cell_type": "code",
   "execution_count": null,
   "id": "a43253d4-4c56-4c24-865e-383b6d56d4bd",
   "metadata": {},
   "outputs": [],
   "source": []
  }
 ],
 "metadata": {
  "kernelspec": {
   "display_name": "Python 3 (ipykernel)",
   "language": "python",
   "name": "python3"
  },
  "language_info": {
   "codemirror_mode": {
    "name": "ipython",
    "version": 3
   },
   "file_extension": ".py",
   "mimetype": "text/x-python",
   "name": "python",
   "nbconvert_exporter": "python",
   "pygments_lexer": "ipython3",
   "version": "3.12.7"
  }
 },
 "nbformat": 4,
 "nbformat_minor": 5
}
